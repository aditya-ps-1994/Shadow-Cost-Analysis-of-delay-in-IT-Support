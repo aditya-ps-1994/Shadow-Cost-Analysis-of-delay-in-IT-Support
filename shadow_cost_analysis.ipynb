{
 "cells": [
  {
   "cell_type": "markdown",
   "id": "d2822d07",
   "metadata": {},
   "source": [
    "# Shadow Cost Analysis of IT Ticket Resolution"
   ]
  },
  {
   "cell_type": "code",
   "execution_count": null,
   "id": "e20cdedb",
   "metadata": {},
   "outputs": [],
   "source": [
    "import pandas as pd\n",
    "import matplotlib.pyplot as plt\n",
    "import seaborn as sns\n",
    "\n",
    "# Load data\n",
    "df = pd.read_excel(\"Ticket_dump_cleaned.xlsx\")\n",
    "df.head()"
   ]
  },
  {
   "cell_type": "markdown",
   "id": "11de42a6",
   "metadata": {},
   "source": [
    "## Total Estimated Shadow Cost by Priority"
   ]
  },
  {
   "cell_type": "code",
   "execution_count": null,
   "id": "01334e9b",
   "metadata": {},
   "outputs": [],
   "source": [
    "priority_cost = df.groupby(\"priority\")[\"estimated_shadow_cost_inr\"].sum().reset_index()\n",
    "priority_cost = priority_cost.sort_values(by=\"estimated_shadow_cost_inr\", ascending=False)\n",
    "\n",
    "plt.figure(figsize=(8, 5))\n",
    "sns.barplot(data=priority_cost, x=\"priority\", y=\"estimated_shadow_cost_inr\")\n",
    "plt.title(\"Total Shadow Cost by Priority (INR)\")\n",
    "plt.xlabel(\"Priority\")\n",
    "plt.ylabel(\"Total Shadow Cost (INR)\")\n",
    "plt.xticks(rotation=45)\n",
    "plt.tight_layout()\n",
    "plt.show()"
   ]
  },
  {
   "cell_type": "markdown",
   "id": "9fedb721",
   "metadata": {},
   "source": [
    "## Average Resolution Time by Queue"
   ]
  },
  {
   "cell_type": "code",
   "execution_count": null,
   "id": "bd103e75",
   "metadata": {},
   "outputs": [],
   "source": [
    "avg_duration = df.groupby(\"queue\")[\"duration_hours\"].mean().reset_index()\n",
    "avg_duration = avg_duration.sort_values(by=\"duration_hours\", ascending=False)\n",
    "\n",
    "plt.figure(figsize=(10, 5))\n",
    "sns.barplot(data=avg_duration, x=\"queue\", y=\"duration_hours\")\n",
    "plt.title(\"Average Resolution Time by Queue (hrs)\")\n",
    "plt.xlabel(\"Queue\")\n",
    "plt.ylabel(\"Avg Duration (hrs)\")\n",
    "plt.xticks(rotation=45)\n",
    "plt.tight_layout()\n",
    "plt.show()"
   ]
  },
  {
   "cell_type": "markdown",
   "id": "c59ea8d4",
   "metadata": {},
   "source": [
    "## Top 10 Tickets with Highest Shadow Cost"
   ]
  },
  {
   "cell_type": "code",
   "execution_count": null,
   "id": "0f098700",
   "metadata": {},
   "outputs": [],
   "source": [
    "top10 = df.sort_values(by=\"estimated_shadow_cost_inr\", ascending=False).head(10)\n",
    "top10[[\"subject\", \"priority\", \"duration_hours\", \"estimated_shadow_cost_inr\"]]"
   ]
  }
 ],
 "metadata": {
  "language_info": {
   "name": "python"
  }
 },
 "nbformat": 4,
 "nbformat_minor": 5
}
